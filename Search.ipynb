{
  "nbformat": 4,
  "nbformat_minor": 0,
  "metadata": {
    "colab": {
      "provenance": [],
      "authorship_tag": "ABX9TyOMV6Is+5NvolKfxeAHbWfb",
      "include_colab_link": true
    },
    "kernelspec": {
      "name": "python3",
      "display_name": "Python 3"
    },
    "language_info": {
      "name": "python"
    }
  },
  "cells": [
    {
      "cell_type": "markdown",
      "metadata": {
        "id": "view-in-github",
        "colab_type": "text"
      },
      "source": [
        "<a href=\"https://colab.research.google.com/github/kumaresan-kite-faculty/sample-code/blob/Manigandan/Search.ipynb\" target=\"_parent\"><img src=\"https://colab.research.google.com/assets/colab-badge.svg\" alt=\"Open In Colab\"/></a>"
      ]
    },
    {
      "cell_type": "code",
      "execution_count": null,
      "metadata": {
        "id": "pOhepD5yDXde"
      },
      "outputs": [],
      "source": [
        "#Search Program\n",
        "a=[]\n",
        "print('How many values to be insert')\n",
        "n=int(input())\n",
        "print(\"OK insert your values\")\n",
        "for i in range(n):\n",
        "  s=int(input())\n",
        "  a.append(s)\n",
        "print(\"List Value\",a)\n",
        "a.sort()\n",
        "print(\"List Value Ascending\",a)\n",
        "print(\"Enter to be search...?\")\n",
        "k=int(input())\n",
        "min=0\n",
        "max=len(a)-1\n",
        "mid=int((min+max)//2)\n",
        "while(min<=max):\n",
        "  if a[mid]==k:\n",
        "    print(\"Element Found at possion\",mid)\n",
        "    break\n",
        "  if a[mid]<k:\n",
        "    min=mid+1\n",
        "  else:\n",
        "    max=mid-1\n",
        "  mid=int((min+max)//2)\n",
        "if min>max:\n",
        "  print(\"Element Not Found\")\n"
      ]
    }
  ]
}